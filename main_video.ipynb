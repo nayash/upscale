{
 "cells": [
  {
   "cell_type": "code",
   "execution_count": null,
   "metadata": {},
   "outputs": [],
   "source": [
    "# !pip install opencv-python\n",
    "# !pip install opencv-contrib-python"
   ]
  },
  {
   "cell_type": "code",
   "execution_count": 1,
   "metadata": {},
   "outputs": [],
   "source": [
    "import cv2\n",
    "from cv2 import dnn_superres\n",
    "\n",
    "file_name = 'Megan Is Missing'\n",
    "ext = 'mp4'\n",
    "scale = 4\n",
    "input_video = f'./input/{file_name}.{ext}'\n",
    "output_video = f'./output/videos/{file_name}_{scale}x_cubic.{ext}'"
   ]
  },
  {
   "cell_type": "code",
   "execution_count": 2,
   "metadata": {},
   "outputs": [
    {
     "name": "stdout",
     "output_type": "stream",
     "text": [
      "input res: (352, 640, 3), total frames=123062.0\n"
     ]
    },
    {
     "name": "stderr",
     "output_type": "stream",
     "text": [
      "frame no: 495: 100%|█████████▉| 99.75459524467341/100 [00:02<00:00, 76.55it/s]  /home/asutosh/miniconda3/envs/env_pytorch/lib/python3.8/site-packages/tqdm/std.py:524: TqdmWarning: clamping frac to range [0, 1]\n",
      "  full_bar = Bar(frac,\n",
      "frame no: 123062: : 6153150.000000001it [10:41, 9596.81it/s]                   \n"
     ]
    },
    {
     "name": "stdout",
     "output_type": "stream",
     "text": [
      "done\n"
     ]
    }
   ],
   "source": [
    "from tqdm import tqdm\n",
    "\n",
    "# bicubic upsampling\n",
    "\n",
    "vs = cv2.VideoCapture(input_video)\n",
    "success, frame = vs.read()\n",
    "input_width = frame.shape[1] # 640\n",
    "input_height = frame.shape[0] # 352\n",
    "frame_count = 0\n",
    "total_frames = vs.get(cv2.CAP_PROP_FRAME_COUNT)\n",
    "print(f'input res: {frame.shape}, total frames={total_frames}')\n",
    "\n",
    "out = cv2.VideoWriter(output_video, cv2.VideoWriter_fourcc(*'mp4v'),\n",
    "                         24, (scale*input_width, scale*input_height))\n",
    "\n",
    "with tqdm(total=100) as pbar:\n",
    "    while success:\n",
    "        upsampled_frame = cv2.resize(frame, None, fx=scale, fy=scale, interpolation=cv2.INTER_CUBIC)\n",
    "        out.write(upsampled_frame)\n",
    "\n",
    "        frame_count += 1\n",
    "        pbar.update(frame_count/total_frames * 100)\n",
    "        pbar.set_description(f'frame no: {frame_count}')\n",
    "        success, frame = vs.read()  \n",
    "    pbar.close()\n",
    "\n",
    "vs.release()\n",
    "out.release()\n",
    "print('done')"
   ]
  },
  {
   "cell_type": "code",
   "execution_count": 3,
   "metadata": {},
   "outputs": [
    {
     "name": "stdout",
     "output_type": "stream",
     "text": [
      "input res: (352, 640, 3), total frames=123062.0\n"
     ]
    },
    {
     "name": "stderr",
     "output_type": "stream",
     "text": [
      "frame no: 140:   8%|▊         | 8.020347467130389/100 [00:40<07:39,  4.99s/it]      \n"
     ]
    },
    {
     "ename": "KeyboardInterrupt",
     "evalue": "",
     "output_type": "error",
     "traceback": [
      "\u001b[0;31m---------------------------------------------------------------------------\u001b[0m",
      "\u001b[0;31mKeyboardInterrupt\u001b[0m                         Traceback (most recent call last)",
      "Cell \u001b[0;32mIn[3], line 27\u001b[0m\n\u001b[1;32m     25\u001b[0m \u001b[39mwith\u001b[39;00m tqdm(total\u001b[39m=\u001b[39m\u001b[39m100\u001b[39m) \u001b[39mas\u001b[39;00m pbar:\n\u001b[1;32m     26\u001b[0m     \u001b[39mwhile\u001b[39;00m success:\n\u001b[0;32m---> 27\u001b[0m         upsampled_frame \u001b[39m=\u001b[39m sr\u001b[39m.\u001b[39;49mupsample(frame)\n\u001b[1;32m     28\u001b[0m         out\u001b[39m.\u001b[39mwrite(upsampled_frame)\n\u001b[1;32m     30\u001b[0m         frame_count \u001b[39m+\u001b[39m\u001b[39m=\u001b[39m \u001b[39m1\u001b[39m\n",
      "\u001b[0;31mKeyboardInterrupt\u001b[0m: "
     ]
    }
   ],
   "source": [
    "import numpy as np\n",
    "import os\n",
    "\n",
    "sr = dnn_superres.DnnSuperResImpl_create()\n",
    "fullModelName = 'FSRCNN_x4.pb'\n",
    "path = f\"./input/models/{fullModelName}\"\n",
    "modelName = fullModelName.split(os.path.sep)[-1].split(\"_\")[0].lower()\n",
    "modelScale = fullModelName.split(\"_x\")[-1]\n",
    "modelScale = int(modelScale[:modelScale.find(\".\")])\n",
    "\n",
    "vs = cv2.VideoCapture(input_video)\n",
    "success, frame = vs.read()\n",
    "input_width = frame.shape[1] # 640\n",
    "input_height = frame.shape[0] # 352\n",
    "frame_count = 0\n",
    "total_frames = vs.get(cv2.CAP_PROP_FRAME_COUNT)\n",
    "print(f'input res: {frame.shape}, total frames={total_frames}')\n",
    "\n",
    "sr.readModel(path)\n",
    "sr.setModel(modelName, modelScale)\n",
    "\n",
    "out = cv2.VideoWriter(output_video, cv2.VideoWriter_fourcc(*'mp4v'),\n",
    "                         24, (scale*input_width, scale*input_height))\n",
    "\n",
    "with tqdm(total=100) as pbar:\n",
    "    while success:\n",
    "        upsampled_frame = sr.upsample(frame)\n",
    "        out.write(upsampled_frame)\n",
    "\n",
    "        frame_count += 1\n",
    "        pbar.update(frame_count/total_frames * 100)\n",
    "        pbar.set_description(f'frame no: {frame_count}')\n",
    "        success, frame = vs.read()  \n",
    "    pbar.close()\n",
    "\n",
    "vs.release()\n",
    "out.release()\n",
    "print('done')"
   ]
  }
 ],
 "metadata": {
  "kernelspec": {
   "display_name": "env_pytorch",
   "language": "python",
   "name": "python3"
  },
  "language_info": {
   "codemirror_mode": {
    "name": "ipython",
    "version": 3
   },
   "file_extension": ".py",
   "mimetype": "text/x-python",
   "name": "python",
   "nbconvert_exporter": "python",
   "pygments_lexer": "ipython3",
   "version": "3.8.13"
  },
  "orig_nbformat": 4
 },
 "nbformat": 4,
 "nbformat_minor": 2
}
